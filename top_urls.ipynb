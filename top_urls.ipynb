{
 "cells": [
  {
   "cell_type": "markdown",
   "id": "0a5f6976-228e-451a-bbbf-120769eff86e",
   "metadata": {},
   "source": [
    "## Top Urls"
   ]
  },
  {
   "cell_type": "code",
   "execution_count": 4,
   "id": "3530d014-3d89-4db1-9d3a-976aa3319918",
   "metadata": {},
   "outputs": [],
   "source": [
    "import pandas as pd\n",
    "import numpy as np\n",
    "import tqdm\n",
    "import glob\n",
    "import os\n",
    "\n",
    "from collections import Counter\n",
    "from concurrent.futures import ProcessPoolExecutor, as_completed"
   ]
  },
  {
   "cell_type": "code",
   "execution_count": 5,
   "id": "e687b560-73a4-4bc4-8380-7fc18798a2c6",
   "metadata": {},
   "outputs": [],
   "source": [
    "from helpers import *"
   ]
  },
  {
   "cell_type": "code",
   "execution_count": 6,
   "id": "372fa34c-d3c1-42e8-aaa5-a3c9bec2ba65",
   "metadata": {},
   "outputs": [
    {
     "name": "stderr",
     "output_type": "stream",
     "text": [
      "Processing Threads: 100%|██████████| 45/45 [24:07<00:00, 32.16s/it]"
     ]
    },
    {
     "name": "stdout",
     "output_type": "stream",
     "text": [
      "Counter({'https://t.co/5ZGk6mKmUI': 131072, 'https://t.co/KfuOwtFw1r': 65538, 'https://t.co/r6jjoU8acW': 32769, 'https://t.co/TK47ZUpBl9': 32769, 'https://t.co/HqafrbZzXH': 32768, 'https://t.co/cbdcv5piQT': 32768, 'https://t.co/kU0xaWQhHQ': 32768, 'https://t.co/O5M40uYNYt': 32768, 'https://t.co/9roTFrdgPN': 16385, 'https://t.co/WjF8Ch6UCR': 16384, 'https://t.co/vi8Ku0jP09': 16384, 'https://t.co/5aNUmJrxy7': 10923, 'https://t.co/vx8dKr17Wl': 1163, 'https://t.co/YSlWqbDkMY': 1030, 'https://t.co/tWyRwI00oL': 928})\n"
     ]
    },
    {
     "name": "stderr",
     "output_type": "stream",
     "text": [
      "\n"
     ]
    }
   ],
   "source": [
    "DATA_DIR = '../usc-x-24-us-election'\n",
    "MOST_COMMON = 15\n",
    "\n",
    "# URL extraction function (must be at top level for multiprocessing)\n",
    "def process_folder(folder_path, top_common=MOST_COMMON):\n",
    "    folder_counter = Counter()\n",
    "    csvs = glob.glob(f'{folder_path}/*.csv.gz')\n",
    "    for csv in csvs:\n",
    "        try:\n",
    "            df = pd.read_csv(csv, compression='gzip', low_memory=False)\n",
    "            folder_counter = top_urls(df, folder_counter, top_common=MOST_COMMON)\n",
    "        except Exception as e:\n",
    "            print(f\"Error processing {csv}: {e}\")\n",
    "    return Counter(dict(folder_counter.most_common(top_common)))\n",
    "\n",
    "# Launch multiprocessing\n",
    "all_folders = [os.path.join(DATA_DIR, folder) for folder in os.listdir(DATA_DIR)]\n",
    "\n",
    "global_counter = Counter()\n",
    "with ProcessPoolExecutor() as executor:\n",
    "    futures = [executor.submit(process_folder, folder) for folder in all_folders]\n",
    "    for future in tqdm.tqdm(as_completed(futures), total=len(futures),desc='Processing Threads'):\n",
    "        result = future.result()\n",
    "        global_counter += result\n",
    "\n",
    "# Get top 15 overall urls\n",
    "top_15 = Counter(dict(global_counter.most_common(MOST_COMMON)))\n",
    "\n",
    "print(top_15)"
   ]
  }
 ],
 "metadata": {
  "kernelspec": {
   "display_name": "Python 3 (ipykernel)",
   "language": "python",
   "name": "python3"
  },
  "language_info": {
   "codemirror_mode": {
    "name": "ipython",
    "version": 3
   },
   "file_extension": ".py",
   "mimetype": "text/x-python",
   "name": "python",
   "nbconvert_exporter": "python",
   "pygments_lexer": "ipython3",
   "version": "3.13.1"
  }
 },
 "nbformat": 4,
 "nbformat_minor": 5
}
