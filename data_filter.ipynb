{
 "cells": [
  {
   "cell_type": "code",
   "execution_count": 1,
   "id": "d1f90429-8904-4ce2-859c-67f983295e20",
   "metadata": {},
   "outputs": [],
   "source": [
    "import pandas as pd\n",
    "import numpy as np\n",
    "import datetime\n",
    "\n",
    "import os"
   ]
  },
  {
   "cell_type": "code",
   "execution_count": 2,
   "id": "c573e5e8-2edd-4a10-91f5-85c02128fa7d",
   "metadata": {},
   "outputs": [],
   "source": [
    "import warnings"
   ]
  },
  {
   "cell_type": "code",
   "execution_count": 3,
   "id": "2124d5a4-2524-4bef-9a04-939a7f5a1f2f",
   "metadata": {},
   "outputs": [],
   "source": [
    "warnings.filterwarnings('ignore')"
   ]
  },
  {
   "cell_type": "code",
   "execution_count": 4,
   "id": "185de113-5e57-4604-a179-745cd3533f01",
   "metadata": {},
   "outputs": [],
   "source": [
    "from tqdm import tqdm"
   ]
  },
  {
   "cell_type": "code",
   "execution_count": 19,
   "id": "70fab5a0-39c7-48ff-b6a6-3ecf61710cc9",
   "metadata": {},
   "outputs": [],
   "source": [
    "import glob"
   ]
  },
  {
   "cell_type": "code",
   "execution_count": 20,
   "id": "82cb6e84-089f-4245-ba63-8804bc1a03b2",
   "metadata": {},
   "outputs": [],
   "source": [
    "root_dir = '../x_dataset/'"
   ]
  },
  {
   "cell_type": "code",
   "execution_count": 32,
   "id": "6105d3f2-a81d-4a40-83dc-b37975eac688",
   "metadata": {},
   "outputs": [],
   "source": [
    "parts = glob.glob(f'{root_dir}/*')\n",
    "final_df = pd.DataFrame()"
   ]
  },
  {
   "cell_type": "code",
   "execution_count": 31,
   "id": "26701a5e-5133-4872-89a2-c567c47e4f27",
   "metadata": {},
   "outputs": [],
   "source": [
    "done_parts = []\n",
    "tot_parts = [i for i in range(1,23)]\n",
    "need_to_do = list(filter(lambda x:x not in done_parts,tot_parts))\n",
    "need_to_do = [f'part_{part}' for part in need_to_do]"
   ]
  },
  {
   "cell_type": "code",
   "execution_count": 36,
   "id": "8b68ff29-8e8d-4ff3-a09a-1727e888e4a1",
   "metadata": {},
   "outputs": [
    {
     "name": "stdout",
     "output_type": "stream",
     "text": [
      "Currently doing part ../x_dataset/part_5\n"
     ]
    },
    {
     "name": "stderr",
     "output_type": "stream",
     "text": [
      "100%|██████████| 20/20 [00:40<00:00,  2.00s/it]\n"
     ]
    },
    {
     "name": "stdout",
     "output_type": "stream",
     "text": [
      "File Size (0, 0)\n",
      "Currently doing part ../x_dataset/part_14\n"
     ]
    },
    {
     "name": "stderr",
     "output_type": "stream",
     "text": [
      "100%|██████████| 20/20 [00:44<00:00,  2.22s/it]\n"
     ]
    },
    {
     "name": "stdout",
     "output_type": "stream",
     "text": [
      "File Size (1000000, 31)\n",
      "Skipping:part_26\n",
      "Currently doing part ../x_dataset/part_21\n"
     ]
    },
    {
     "name": "stderr",
     "output_type": "stream",
     "text": [
      "100%|██████████| 20/20 [00:40<00:00,  2.01s/it]\n"
     ]
    },
    {
     "name": "stdout",
     "output_type": "stream",
     "text": [
      "File Size (1000000, 31)\n",
      "Currently doing part ../x_dataset/part_19\n"
     ]
    },
    {
     "name": "stderr",
     "output_type": "stream",
     "text": [
      "100%|██████████| 20/20 [00:46<00:00,  2.32s/it]\n"
     ]
    },
    {
     "name": "stdout",
     "output_type": "stream",
     "text": [
      "File Size (1581348, 31)\n",
      "Currently doing part ../x_dataset/part_13\n"
     ]
    },
    {
     "name": "stderr",
     "output_type": "stream",
     "text": [
      "100%|██████████| 20/20 [00:57<00:00,  2.86s/it]\n"
     ]
    },
    {
     "name": "stdout",
     "output_type": "stream",
     "text": [
      "File Size (2510317, 31)\n",
      "Currently doing part ../x_dataset/part_2\n"
     ]
    },
    {
     "name": "stderr",
     "output_type": "stream",
     "text": [
      "100%|██████████| 20/20 [00:40<00:00,  2.01s/it]\n"
     ]
    },
    {
     "name": "stdout",
     "output_type": "stream",
     "text": [
      "File Size (2510317, 31)\n",
      "Currently doing part ../x_dataset/part_8\n"
     ]
    },
    {
     "name": "stderr",
     "output_type": "stream",
     "text": [
      "100%|██████████| 20/20 [01:09<00:00,  3.47s/it]\n"
     ]
    },
    {
     "name": "stdout",
     "output_type": "stream",
     "text": [
      "File Size (3510314, 31)\n",
      "Currently doing part ../x_dataset/part_6\n"
     ]
    },
    {
     "name": "stderr",
     "output_type": "stream",
     "text": [
      "100%|██████████| 20/20 [01:02<00:00,  3.11s/it]\n"
     ]
    },
    {
     "name": "stdout",
     "output_type": "stream",
     "text": [
      "File Size (4127347, 31)\n",
      "Currently doing part ../x_dataset/part_17\n"
     ]
    },
    {
     "name": "stderr",
     "output_type": "stream",
     "text": [
      "100%|██████████| 20/20 [01:14<00:00,  3.73s/it]\n"
     ]
    },
    {
     "name": "stdout",
     "output_type": "stream",
     "text": [
      "File Size (4952469, 31)\n",
      "Skipping:part_25\n",
      "Currently doing part ../x_dataset/part_22\n"
     ]
    },
    {
     "name": "stderr",
     "output_type": "stream",
     "text": [
      "100%|██████████| 20/20 [00:55<00:00,  2.80s/it]\n"
     ]
    },
    {
     "name": "stdout",
     "output_type": "stream",
     "text": [
      "File Size (4952795, 31)\n",
      "Skipping:part_28\n",
      "Currently doing part ../x_dataset/part_10\n"
     ]
    },
    {
     "name": "stderr",
     "output_type": "stream",
     "text": [
      "100%|██████████| 20/20 [01:46<00:00,  5.33s/it]\n"
     ]
    },
    {
     "name": "stdout",
     "output_type": "stream",
     "text": [
      "File Size (5909947, 31)\n",
      "Currently doing part ../x_dataset/part_1\n"
     ]
    },
    {
     "name": "stderr",
     "output_type": "stream",
     "text": [
      "100%|██████████| 20/20 [00:36<00:00,  1.82s/it]\n"
     ]
    },
    {
     "name": "stdout",
     "output_type": "stream",
     "text": [
      "File Size (5909947, 31)\n",
      "Currently doing part ../x_dataset/part_9\n"
     ]
    },
    {
     "name": "stderr",
     "output_type": "stream",
     "text": [
      "100%|██████████| 20/20 [02:02<00:00,  6.11s/it]\n"
     ]
    },
    {
     "name": "stdout",
     "output_type": "stream",
     "text": [
      "File Size (6909946, 31)\n",
      "Currently doing part ../x_dataset/part_3\n"
     ]
    },
    {
     "name": "stderr",
     "output_type": "stream",
     "text": [
      "100%|██████████| 20/20 [00:39<00:00,  1.99s/it]\n"
     ]
    },
    {
     "name": "stdout",
     "output_type": "stream",
     "text": [
      "File Size (6909946, 31)\n",
      "Currently doing part ../x_dataset/part_20\n"
     ]
    },
    {
     "name": "stderr",
     "output_type": "stream",
     "text": [
      "100%|██████████| 20/20 [00:38<00:00,  1.94s/it]\n"
     ]
    },
    {
     "name": "stdout",
     "output_type": "stream",
     "text": [
      "File Size (6909946, 31)\n",
      "Currently doing part ../x_dataset/part_12\n"
     ]
    },
    {
     "name": "stderr",
     "output_type": "stream",
     "text": [
      "100%|██████████| 20/20 [02:15<00:00,  6.77s/it]\n"
     ]
    },
    {
     "name": "stdout",
     "output_type": "stream",
     "text": [
      "File Size (7860418, 31)\n",
      "Currently doing part ../x_dataset/part_18\n"
     ]
    },
    {
     "name": "stderr",
     "output_type": "stream",
     "text": [
      "100%|██████████| 20/20 [01:21<00:00,  4.10s/it]\n"
     ]
    },
    {
     "name": "stdout",
     "output_type": "stream",
     "text": [
      "File Size (8092116, 31)\n",
      "Currently doing part ../x_dataset/part_15\n"
     ]
    },
    {
     "name": "stderr",
     "output_type": "stream",
     "text": [
      "100%|██████████| 20/20 [02:23<00:00,  7.19s/it]\n"
     ]
    },
    {
     "name": "stdout",
     "output_type": "stream",
     "text": [
      "File Size (9017878, 31)\n",
      "Skipping:README.md\n",
      "Skipping:part_27\n",
      "Currently doing part ../x_dataset/part_4\n"
     ]
    },
    {
     "name": "stderr",
     "output_type": "stream",
     "text": [
      "100%|██████████| 20/20 [00:34<00:00,  1.73s/it]\n"
     ]
    },
    {
     "name": "stdout",
     "output_type": "stream",
     "text": [
      "File Size (9017878, 31)\n",
      "Skipping:part_23\n",
      "Currently doing part ../x_dataset/part_11\n"
     ]
    },
    {
     "name": "stderr",
     "output_type": "stream",
     "text": [
      "100%|██████████| 20/20 [02:48<00:00,  8.43s/it]\n"
     ]
    },
    {
     "name": "stdout",
     "output_type": "stream",
     "text": [
      "File Size (10017869, 31)\n",
      "Currently doing part ../x_dataset/part_16\n"
     ]
    },
    {
     "name": "stderr",
     "output_type": "stream",
     "text": [
      "100%|██████████| 20/20 [02:45<00:00,  8.30s/it]\n"
     ]
    },
    {
     "name": "stdout",
     "output_type": "stream",
     "text": [
      "File Size (10992049, 31)\n",
      "Skipping:part_24\n",
      "Currently doing part ../x_dataset/part_7\n"
     ]
    },
    {
     "name": "stderr",
     "output_type": "stream",
     "text": [
      "100%|██████████| 20/20 [02:50<00:00,  8.52s/it]"
     ]
    },
    {
     "name": "stdout",
     "output_type": "stream",
     "text": [
      "File Size (11917475, 31)\n"
     ]
    },
    {
     "name": "stderr",
     "output_type": "stream",
     "text": [
      "\n"
     ]
    }
   ],
   "source": [
    "for part in parts:\n",
    "    folder_name = os.path.basename(part)\n",
    "    if(folder_name not in need_to_do):\n",
    "        print(f\"Skipping:{folder_name}\")\n",
    "        continue\n",
    "        \n",
    "    print(f'Currently doing part {part}')\n",
    "    files = glob.glob(f'{part}/*.csv.gz')\n",
    "    for file in tqdm(files):\n",
    "        df = pd.read_csv(file,compression='gzip')\n",
    "        df['epoch_dt'] = pd.to_datetime(df['epoch'], unit='s',errors='coerce')\n",
    "        df = df.dropna(subset=['epoch_dt'])\n",
    "        df['date'] = df['epoch_dt'].dt.date\n",
    "\n",
    "        # Convert it into timestamp\n",
    "        df = df[(df['date']>=datetime.date(2024,7,6)) & (df['date']<=datetime.date(2024,7,28))]\n",
    "\n",
    "        if(df.shape[0] != 0):\n",
    "            final_df = pd.concat([final_df,df])\n",
    "        del df\n",
    "    done_parts.append(folder_name)\n",
    "\n",
    "    print(f'File Size {final_df.shape}')"
   ]
  },
  {
   "cell_type": "code",
   "execution_count": 9,
   "id": "657c7c95-343e-4815-b714-2755be19969b",
   "metadata": {},
   "outputs": [],
   "source": [
    "dtype_cols = {'id_str':int,'epoch':int}\n",
    "df = pd.read_csv('/scratch1/ashwinba/data/elections_24/duke/july_split.csv.gz',compression='gzip',dtype=dtype_cols)"
   ]
  },
  {
   "cell_type": "code",
   "execution_count": 7,
   "id": "d79d0eaa-0a44-4d04-af7a-07f8bae85ddc",
   "metadata": {},
   "outputs": [
    {
     "data": {
      "text/plain": [
       "Unnamed: 0                     int64\n",
       "id                             int64\n",
       "text                          object\n",
       "url                           object\n",
       "epoch                        float64\n",
       "media                         object\n",
       "retweetedTweet                  bool\n",
       "retweetedTweetID             float64\n",
       "retweetedUserID              float64\n",
       "id_str                       float64\n",
       "lang                          object\n",
       "rawContent                    object\n",
       "replyCount                   float64\n",
       "retweetCount                 float64\n",
       "likeCount                    float64\n",
       "quoteCount                   float64\n",
       "conversationId               float64\n",
       "conversationIdStr            float64\n",
       "hashtags                      object\n",
       "mentionedUsers                object\n",
       "links                         object\n",
       "viewCount                     object\n",
       "quotedTweet                   object\n",
       "in_reply_to_screen_name       object\n",
       "in_reply_to_status_id_str     object\n",
       "in_reply_to_user_id_str      float64\n",
       "location                      object\n",
       "cash_app_handle               object\n",
       "user                          object\n",
       "date                          object\n",
       "_type                         object\n",
       "epoch_dt                      object\n",
       "dtype: object"
      ]
     },
     "execution_count": 7,
     "metadata": {},
     "output_type": "execute_result"
    }
   ],
   "source": [
    "df.dtypes"
   ]
  },
  {
   "cell_type": "code",
   "execution_count": 38,
   "id": "0c3891a2-b9d8-4289-983f-4d1962d82495",
   "metadata": {},
   "outputs": [
    {
     "data": {
      "text/plain": [
       "date\n",
       "2024-07-14    1068235\n",
       "2024-07-21     929997\n",
       "2024-07-18     910402\n",
       "2024-07-19     771868\n",
       "2024-07-16     746723\n",
       "2024-07-13     738635\n",
       "2024-07-15     734484\n",
       "2024-07-17     729393\n",
       "2024-07-12     691390\n",
       "2024-07-11     625463\n",
       "2024-07-20     574557\n",
       "2024-07-07     558676\n",
       "2024-07-10     557749\n",
       "2024-07-09     518676\n",
       "2024-07-08     507537\n",
       "2024-07-23     309418\n",
       "2024-07-25     300503\n",
       "2024-07-24     268801\n",
       "2024-07-26     216437\n",
       "2024-07-06     158365\n",
       "2024-07-22        160\n",
       "2024-07-28          5\n",
       "2024-07-27          1\n",
       "Name: count, dtype: int64"
      ]
     },
     "execution_count": 38,
     "metadata": {},
     "output_type": "execute_result"
    }
   ],
   "source": [
    "final_df['date'].value_counts()"
   ]
  },
  {
   "cell_type": "code",
   "execution_count": 44,
   "id": "da7d4a06-bcc4-429a-8df1-82cab43d2625",
   "metadata": {},
   "outputs": [],
   "source": [
    "df_july = pd.read_csv('/scratch1/ashwinba/data/elections_24/july_scrapes/new_july/July28 new.csv')"
   ]
  },
  {
   "cell_type": "code",
   "execution_count": 45,
   "id": "de6732a6-cf12-47ca-80c2-a912dc9d6640",
   "metadata": {},
   "outputs": [],
   "source": [
    "df_july['epoch_dt'] = pd.to_datetime(df_july['epoch'], unit='s',errors='coerce')\n",
    "df_july = df_july.dropna(subset=['epoch_dt'])\n",
    "df_july['date'] = df_july['epoch_dt'].dt.date"
   ]
  },
  {
   "cell_type": "code",
   "execution_count": 46,
   "id": "4ff85e52-3236-4cf3-be18-fd637323ea02",
   "metadata": {},
   "outputs": [
    {
     "data": {
      "text/plain": [
       "date\n",
       "2024-10-22    47201\n",
       "2024-10-24    39683\n",
       "2024-10-19    36446\n",
       "2024-10-23    25792\n",
       "2024-10-21    16419\n",
       "2024-10-18    13168\n",
       "Name: count, dtype: int64"
      ]
     },
     "execution_count": 46,
     "metadata": {},
     "output_type": "execute_result"
    }
   ],
   "source": [
    "df_july['date'].value_counts()"
   ]
  }
 ],
 "metadata": {
  "kernelspec": {
   "display_name": "Python 3 (ipykernel)",
   "language": "python",
   "name": "python3"
  },
  "language_info": {
   "codemirror_mode": {
    "name": "ipython",
    "version": 3
   },
   "file_extension": ".py",
   "mimetype": "text/x-python",
   "name": "python",
   "nbconvert_exporter": "python",
   "pygments_lexer": "ipython3",
   "version": "3.13.1"
  }
 },
 "nbformat": 4,
 "nbformat_minor": 5
}
